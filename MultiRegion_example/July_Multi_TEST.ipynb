{
 "cells": [
  {
   "cell_type": "code",
   "execution_count": 1,
   "metadata": {},
   "outputs": [],
   "source": [
    "import openmmtools\n",
    "from simtk.openmm import app\n",
    "import simtk.openmm as mm\n",
    "from simtk import unit\n",
    "from sys import stdout\n",
    "import numpy as np\n",
    "import yank\n",
    "from yank.restraints import RestraintState\n",
    "from yank.experiment import Topography\n",
    "from importlib import reload"
   ]
  },
  {
   "cell_type": "code",
   "execution_count": 2,
   "metadata": {},
   "outputs": [],
   "source": [
    "pdb = app.PDBFile('tip3p.pdb')\n",
    "forcefield = app.ForceField('amber99sbildn.xml', 'tip3p.xml')\n",
    "\n",
    "system = forcefield.createSystem(pdb.topology, nonbondedMethod=app.PME, \n",
    "    nonbondedCutoff=1.0*unit.nanometers, constraints=app.HBonds, rigidWater=True, \n",
    "    ewaldErrorTolerance=0.0005)\n",
    "\n",
    "integrator = mm.LangevinIntegrator(100*unit.kelvin, 1.0/unit.picoseconds, \n",
    "    2.0*unit.femtoseconds)\n",
    "integrator.setConstraintTolerance(0.00001)\n",
    "\n",
    "platform = mm.Platform.getPlatformByName('CUDA')\n",
    "properties = {'CudaPrecision': 'mixed'}"
   ]
  },
  {
   "cell_type": "code",
   "execution_count": 4,
   "metadata": {},
   "outputs": [
    {
     "name": "stdout",
     "output_type": "stream",
     "text": [
      "Using 4 alchemical regions\n"
     ]
    }
   ],
   "source": [
    "reload(openmmtools.alchemy)\n",
    "factory = openmmtools.alchemy.AbsoluteAlchemicalFactory(consistent_exceptions=False, split_alchemical_forces = True)#, alchemical_pme_treatment = 'exact')\n",
    "reference_system = system\n",
    "alchemical_region_1 = openmmtools.alchemy.AlchemicalRegion(alchemical_atoms = [3,4,5], name='one')\n",
    "alchemical_region_0 = openmmtools.alchemy.AlchemicalRegion(alchemical_atoms = [0,1,2], name='zero')\n",
    "alchemical_region_2 = openmmtools.alchemy.AlchemicalRegion(alchemical_atoms = [6,7,8], name='two')\n",
    "alchemical_region_3 = openmmtools.alchemy.AlchemicalRegion(alchemical_atoms = [9,10,11], name='three')\n",
    "\n",
    "alchemical_system_in = factory.create_alchemical_system(reference_system, alchemical_regions = [alchemical_region_0, alchemical_region_1, alchemical_region_2, alchemical_region_3])\n",
    "\n",
    "alchemical_state_zero = openmmtools.alchemy.AlchemicalState.from_system(alchemical_system_in, region_name = 'zero')\n",
    "alchemical_state_one = openmmtools.alchemy.AlchemicalState.from_system(alchemical_system_in, region_name = 'one')\n",
    "alchemical_state_two = openmmtools.alchemy.AlchemicalState.from_system(alchemical_system_in, region_name = 'two')\n",
    "alchemical_state_three = openmmtools.alchemy.AlchemicalState.from_system(alchemical_system_in, region_name = 'three')\n"
   ]
  },
  {
   "cell_type": "code",
   "execution_count": 4,
   "metadata": {},
   "outputs": [],
   "source": [
    "#restraint_state = RestraintState(lambda_restraints=1.0)\n",
    "#print(restraint_state)"
   ]
  },
  {
   "cell_type": "code",
   "execution_count": 5,
   "metadata": {
    "scrolled": true
   },
   "outputs": [],
   "source": [
    "TS = openmmtools.states.ThermodynamicState(alchemical_system_in, temperature=300*unit.kelvin, pressure=1*unit.bar)\n",
    "composable_states = [alchemical_state_zero, alchemical_state_one, alchemical_state_two, alchemical_state_three]#, restraint_state]\n",
    "compound_state = openmmtools.states.CompoundThermodynamicState(\n",
    "            thermodynamic_state=TS, composable_states=composable_states)"
   ]
  },
  {
   "cell_type": "code",
   "execution_count": 8,
   "metadata": {
    "scrolled": true
   },
   "outputs": [],
   "source": [
    "reload(openmmtools.alchemy)\n",
    "integrator = mm.VerletIntegrator(1.0*unit.femtosecond)\n",
    "compound_state._composable_states[0].lambda_sterics_zero = 1.0\n",
    "compound_state._composable_states[0].lambda_electrostatics_zero = 1.0\n",
    "compound_state._composable_states[1].lambda_sterics_one = 0.0\n",
    "compound_state._composable_states[1].lambda_electrostatics_one = 0.0\n",
    "compound_state._composable_states[2].lambda_sterics_two = 1.0\n",
    "compound_state._composable_states[2].lambda_electrostatics_two = 1.0\n",
    "compound_state._composable_states[3].lambda_sterics_three = 1.0\n",
    "compound_state._composable_states[3].lambda_electrostatics_three = 1.0\n",
    "context = compound_state.create_context(integrator)"
   ]
  },
  {
   "cell_type": "code",
   "execution_count": 9,
   "metadata": {},
   "outputs": [
    {
     "name": "stdout",
     "output_type": "stream",
     "text": [
      "No Error\n"
     ]
    }
   ],
   "source": [
    "context.setPositions(pdb.positions)\n",
    "#for param in context.getParameters():\n",
    "    #print(param)\n",
    "    #print(context.getParameter(param))\n",
    "\n",
    "integrator.step(1000)\n",
    "print('No Error')"
   ]
  },
  {
   "cell_type": "code",
   "execution_count": null,
   "metadata": {},
   "outputs": [],
   "source": []
  }
 ],
 "metadata": {
  "kernelspec": {
   "display_name": "Python 3",
   "language": "python",
   "name": "python3"
  },
  "language_info": {
   "codemirror_mode": {
    "name": "ipython",
    "version": 3
   },
   "file_extension": ".py",
   "mimetype": "text/x-python",
   "name": "python",
   "nbconvert_exporter": "python",
   "pygments_lexer": "ipython3",
   "version": "3.6.5"
  }
 },
 "nbformat": 4,
 "nbformat_minor": 2
}
